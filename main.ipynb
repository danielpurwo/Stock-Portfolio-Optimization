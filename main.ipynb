{
 "cells": [
  {
   "cell_type": "code",
   "execution_count": 1,
   "metadata": {},
   "outputs": [
    {
     "data": {
      "text/plain": [
       "True"
      ]
     },
     "execution_count": 1,
     "metadata": {},
     "output_type": "execute_result"
    }
   ],
   "source": [
    "import requests \n",
    "from dotenv import load_dotenv\n",
    "import json      \n",
    "import pandas as pd  \n",
    "import os\n",
    "load_dotenv()"
   ]
  },
  {
   "cell_type": "markdown",
   "metadata": {},
   "source": [
    "# *Quick Introduction *"
   ]
  },
  {
   "cell_type": "markdown",
   "metadata": {},
   "source": [
    "This notebook is a supplementary resource for the workshop “Stock Portfolio Optimization with Python” using the Sectors API. It covers these topics: stock investment background and understanding the Sectors API, stock selection overview and two stock portfolio optimization models, followed by further recommendations and insights.\n",
    "\n",
    "Using the Sectors API, investors gain access to valuable data from the “**Companies by Index**” and “**Daily Transaction Data**” endpoints, including stock indexes, dates, closing prices, volumes, and market capitalizations. Next, the “**Company Report**” API provides additional insights such as EPS, dividends, growth metrics, and other relevant financial information.\n",
    "\n",
    "In **Section 3**, we will explore how to effectively query this data from the API to build a portfolio optimization model. However, before diving into optimization, it’s crucial to **understand the available stock indexes** and their **respective investment purposes**."
   ]
  },
  {
   "cell_type": "markdown",
   "metadata": {},
   "source": [
    "# Section 1 - Sectors API & Stock Investment Overview"
   ]
  },
  {
   "cell_type": "markdown",
   "metadata": {},
   "source": [
    "When considering stock investments, individual investors typically focus on key questions such as: Which stocks to buy? How many shares? What’s the price, growth potential, and risk?"
   ]
  },
  {
   "cell_type": "code",
   "execution_count": null,
   "metadata": {},
   "outputs": [],
   "source": [
    "import pandas as pd\n",
    "\n",
    "index_data = {\n",
    "\n",
    "              #list of stock indexes from Sectors API\n",
    "\n",
    "    'Index': ['FTSE', 'IDX30', 'IDXBUMN20', 'IDXESGL', 'IDXG30', 'IDXHIDIV20',\n",
    "              'IDXQ30', 'IDXV30', 'JII70', 'KOMPAS100', 'LQ45', 'SMInfra18',\n",
    "              'SRIKEHA18', 'SRIKEHATI'],\n",
    "\n",
    "    'Focus': ['Globally recognized index of large-cap companies',\n",
    "              'Top 30 stocks by market cap and liquidity',\n",
    "              'Top 20 government-owned enterprises (BUMN)',\n",
    "              'Stocks meeting ESG (environmental, social, governance) standards',\n",
    "              'Large-cap, high liquidity growth stocks',\n",
    "              '20 stocks with high dividend yields',\n",
    "              'Focus on quality stocks based on financial metrics',\n",
    "              'Focus on value stocks trading below intrinsic value',\n",
    "              '70 stocks complying with Shariah (Islamic law)',\n",
    "              '100 most liquid, actively traded stocks',\n",
    "              'Top 45 most liquid stocks with large market caps',\n",
    "              '18 infrastructure-related stocks',\n",
    "              'Tracks sustainability and social responsibility',\n",
    "              'Sustainability and ethical investing'],\n",
    "\n",
    "    'Investment Use': ['For investors seeking to track global or broad market performance',\n",
    "                       'Suitable for blue-chip stock investors looking for stable and liquid companies',\n",
    "                       'For exposure to state-owned enterprises (SOEs) benefiting from government policies',\n",
    "                       'Ideal for socially responsible investors focused on sustainability and ethical investing',\n",
    "                       'For growth-oriented investors looking for long-term capital appreciation',\n",
    "                       'Attractive to income-seeking investors focused on dividend income',\n",
    "                       'Suitable for long-term investors seeking companies with strong fundamentals',\n",
    "                       'Ideal for value investors looking for undervalued stocks',\n",
    "                       'Suitable for Shariah-compliant investors following Islamic investment principles',\n",
    "                       'For investors seeking diversified exposure to Indonesia’s liquid stocks',\n",
    "                       'Blue-chip focused, for investors looking for stability and long-term growth potential',\n",
    "                       'For investors bullish on infrastructure growth and development projects in Indonesia',\n",
    "                       'Ideal for ESG investors prioritizing sustainable business practices',\n",
    "                       'Same as SRIKEHA18, for socially responsible investors']\n",
    "}\n",
    "\n",
    "# Load into a pandas DataFrame\n",
    "df_index_info = pd.DataFrame(index_data)\n",
    "\n",
    "# Display the DataFrame\n",
    "df_index_info"
   ]
  }
 ],
 "metadata": {
  "kernelspec": {
   "display_name": "bunker",
   "language": "python",
   "name": "python3"
  },
  "language_info": {
   "codemirror_mode": {
    "name": "ipython",
    "version": 3
   },
   "file_extension": ".py",
   "mimetype": "text/x-python",
   "name": "python",
   "nbconvert_exporter": "python",
   "pygments_lexer": "ipython3",
   "version": "3.10.15"
  }
 },
 "nbformat": 4,
 "nbformat_minor": 2
}

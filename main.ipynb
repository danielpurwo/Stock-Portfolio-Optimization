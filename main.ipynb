{
 "cells": [
  {
   "cell_type": "code",
   "execution_count": 28,
   "metadata": {},
   "outputs": [
    {
     "data": {
      "text/plain": [
       "True"
      ]
     },
     "execution_count": 28,
     "metadata": {},
     "output_type": "execute_result"
    }
   ],
   "source": [
    "import requests \n",
    "from dotenv import load_dotenv\n",
    "import json      \n",
    "import pandas as pd  \n",
    "import os\n",
    "load_dotenv()"
   ]
  },
  {
   "cell_type": "markdown",
   "metadata": {},
   "source": [
    "# *Quick Introduction *"
   ]
  },
  {
   "cell_type": "markdown",
   "metadata": {},
   "source": [
    "This notebook is a supplementary resource for the workshop “Stock Portfolio Optimization with Python” using the Sectors API. It covers these topics: stock investment background and understanding the Sectors API, stock selection overview and two stock portfolio optimization models, followed by further recommendations and insights.\n",
    "\n",
    "Using the Sectors API, investors gain access to valuable data from the “**Companies by Index**” and “**Daily Transaction Data**” endpoints, including stock indexes, dates, closing prices, volumes, and market capitalizations. Next, the “**Company Report**” API provides additional insights such as EPS, dividends, growth metrics, and other relevant financial information.\n",
    "\n",
    "In **Section 3**, we will explore how to effectively query this data from the API to build a portfolio optimization model. However, before diving into optimization, it’s crucial to **understand the available stock indexes** and their **respective investment purposes**."
   ]
  },
  {
   "cell_type": "markdown",
   "metadata": {},
   "source": [
    "# Section 1 - Sectors API & Stock Investment Overview"
   ]
  },
  {
   "cell_type": "markdown",
   "metadata": {},
   "source": [
    "When considering stock investments, individual investors typically focus on key questions such as: Which stocks to buy? How many shares? What’s the price, growth potential, and risk?"
   ]
  },
  {
   "cell_type": "code",
   "execution_count": 29,
   "metadata": {},
   "outputs": [
    {
     "data": {
      "text/html": [
       "<div>\n",
       "<style scoped>\n",
       "    .dataframe tbody tr th:only-of-type {\n",
       "        vertical-align: middle;\n",
       "    }\n",
       "\n",
       "    .dataframe tbody tr th {\n",
       "        vertical-align: top;\n",
       "    }\n",
       "\n",
       "    .dataframe thead th {\n",
       "        text-align: right;\n",
       "    }\n",
       "</style>\n",
       "<table border=\"1\" class=\"dataframe\">\n",
       "  <thead>\n",
       "    <tr style=\"text-align: right;\">\n",
       "      <th></th>\n",
       "      <th>Index</th>\n",
       "      <th>Focus</th>\n",
       "      <th>Investment Use</th>\n",
       "    </tr>\n",
       "  </thead>\n",
       "  <tbody>\n",
       "    <tr>\n",
       "      <th>0</th>\n",
       "      <td>FTSE</td>\n",
       "      <td>Globally recognized index of large-cap companies</td>\n",
       "      <td>For investors seeking to track global or broad...</td>\n",
       "    </tr>\n",
       "    <tr>\n",
       "      <th>1</th>\n",
       "      <td>IDX30</td>\n",
       "      <td>Top 30 stocks by market cap and liquidity</td>\n",
       "      <td>Suitable for blue-chip stock investors looking...</td>\n",
       "    </tr>\n",
       "    <tr>\n",
       "      <th>2</th>\n",
       "      <td>IDXBUMN20</td>\n",
       "      <td>Top 20 government-owned enterprises (BUMN)</td>\n",
       "      <td>For exposure to state-owned enterprises (SOEs)...</td>\n",
       "    </tr>\n",
       "    <tr>\n",
       "      <th>3</th>\n",
       "      <td>IDXESGL</td>\n",
       "      <td>Stocks meeting ESG (environmental, social, gov...</td>\n",
       "      <td>Ideal for socially responsible investors focus...</td>\n",
       "    </tr>\n",
       "    <tr>\n",
       "      <th>4</th>\n",
       "      <td>IDXG30</td>\n",
       "      <td>Large-cap, high liquidity growth stocks</td>\n",
       "      <td>For growth-oriented investors looking for long...</td>\n",
       "    </tr>\n",
       "    <tr>\n",
       "      <th>5</th>\n",
       "      <td>IDXHIDIV20</td>\n",
       "      <td>20 stocks with high dividend yields</td>\n",
       "      <td>Attractive to income-seeking investors focused...</td>\n",
       "    </tr>\n",
       "    <tr>\n",
       "      <th>6</th>\n",
       "      <td>IDXQ30</td>\n",
       "      <td>Focus on quality stocks based on financial met...</td>\n",
       "      <td>Suitable for long-term investors seeking compa...</td>\n",
       "    </tr>\n",
       "    <tr>\n",
       "      <th>7</th>\n",
       "      <td>IDXV30</td>\n",
       "      <td>Focus on value stocks trading below intrinsic ...</td>\n",
       "      <td>Ideal for value investors looking for underval...</td>\n",
       "    </tr>\n",
       "    <tr>\n",
       "      <th>8</th>\n",
       "      <td>JII70</td>\n",
       "      <td>70 stocks complying with Shariah (Islamic law)</td>\n",
       "      <td>Suitable for Shariah-compliant investors follo...</td>\n",
       "    </tr>\n",
       "    <tr>\n",
       "      <th>9</th>\n",
       "      <td>KOMPAS100</td>\n",
       "      <td>100 most liquid, actively traded stocks</td>\n",
       "      <td>For investors seeking diversified exposure to ...</td>\n",
       "    </tr>\n",
       "    <tr>\n",
       "      <th>10</th>\n",
       "      <td>LQ45</td>\n",
       "      <td>Top 45 most liquid stocks with large market caps</td>\n",
       "      <td>Blue-chip focused, for investors looking for s...</td>\n",
       "    </tr>\n",
       "    <tr>\n",
       "      <th>11</th>\n",
       "      <td>SMInfra18</td>\n",
       "      <td>18 infrastructure-related stocks</td>\n",
       "      <td>For investors bullish on infrastructure growth...</td>\n",
       "    </tr>\n",
       "    <tr>\n",
       "      <th>12</th>\n",
       "      <td>SRIKEHA18</td>\n",
       "      <td>Tracks sustainability and social responsibility</td>\n",
       "      <td>Ideal for ESG investors prioritizing sustainab...</td>\n",
       "    </tr>\n",
       "    <tr>\n",
       "      <th>13</th>\n",
       "      <td>SRIKEHATI</td>\n",
       "      <td>Sustainability and ethical investing</td>\n",
       "      <td>Same as SRIKEHA18, for socially responsible in...</td>\n",
       "    </tr>\n",
       "  </tbody>\n",
       "</table>\n",
       "</div>"
      ],
      "text/plain": [
       "         Index                                              Focus  \\\n",
       "0         FTSE   Globally recognized index of large-cap companies   \n",
       "1        IDX30          Top 30 stocks by market cap and liquidity   \n",
       "2    IDXBUMN20         Top 20 government-owned enterprises (BUMN)   \n",
       "3      IDXESGL  Stocks meeting ESG (environmental, social, gov...   \n",
       "4       IDXG30            Large-cap, high liquidity growth stocks   \n",
       "5   IDXHIDIV20                20 stocks with high dividend yields   \n",
       "6       IDXQ30  Focus on quality stocks based on financial met...   \n",
       "7       IDXV30  Focus on value stocks trading below intrinsic ...   \n",
       "8        JII70     70 stocks complying with Shariah (Islamic law)   \n",
       "9    KOMPAS100            100 most liquid, actively traded stocks   \n",
       "10        LQ45   Top 45 most liquid stocks with large market caps   \n",
       "11   SMInfra18                   18 infrastructure-related stocks   \n",
       "12   SRIKEHA18    Tracks sustainability and social responsibility   \n",
       "13   SRIKEHATI               Sustainability and ethical investing   \n",
       "\n",
       "                                       Investment Use  \n",
       "0   For investors seeking to track global or broad...  \n",
       "1   Suitable for blue-chip stock investors looking...  \n",
       "2   For exposure to state-owned enterprises (SOEs)...  \n",
       "3   Ideal for socially responsible investors focus...  \n",
       "4   For growth-oriented investors looking for long...  \n",
       "5   Attractive to income-seeking investors focused...  \n",
       "6   Suitable for long-term investors seeking compa...  \n",
       "7   Ideal for value investors looking for underval...  \n",
       "8   Suitable for Shariah-compliant investors follo...  \n",
       "9   For investors seeking diversified exposure to ...  \n",
       "10  Blue-chip focused, for investors looking for s...  \n",
       "11  For investors bullish on infrastructure growth...  \n",
       "12  Ideal for ESG investors prioritizing sustainab...  \n",
       "13  Same as SRIKEHA18, for socially responsible in...  "
      ]
     },
     "execution_count": 29,
     "metadata": {},
     "output_type": "execute_result"
    }
   ],
   "source": [
    "import pandas as pd\n",
    "\n",
    "index_data = {\n",
    "\n",
    "              #list of stock indexes from Sectors API\n",
    "\n",
    "    'Index': ['FTSE', 'IDX30', 'IDXBUMN20', 'IDXESGL', 'IDXG30', 'IDXHIDIV20',\n",
    "              'IDXQ30', 'IDXV30', 'JII70', 'KOMPAS100', 'LQ45', 'SMInfra18',\n",
    "              'SRIKEHA18', 'SRIKEHATI'],\n",
    "\n",
    "    'Focus': ['Globally recognized index of large-cap companies',\n",
    "              'Top 30 stocks by market cap and liquidity',\n",
    "              'Top 20 government-owned enterprises (BUMN)',\n",
    "              'Stocks meeting ESG (environmental, social, governance) standards',\n",
    "              'Large-cap, high liquidity growth stocks',\n",
    "              '20 stocks with high dividend yields',\n",
    "              'Focus on quality stocks based on financial metrics',\n",
    "              'Focus on value stocks trading below intrinsic value',\n",
    "              '70 stocks complying with Shariah (Islamic law)',\n",
    "              '100 most liquid, actively traded stocks',\n",
    "              'Top 45 most liquid stocks with large market caps',\n",
    "              '18 infrastructure-related stocks',\n",
    "              'Tracks sustainability and social responsibility',\n",
    "              'Sustainability and ethical investing'],\n",
    "\n",
    "    'Investment Use': ['For investors seeking to track global or broad market performance',\n",
    "                       'Suitable for blue-chip stock investors looking for stable and liquid companies',\n",
    "                       'For exposure to state-owned enterprises (SOEs) benefiting from government policies',\n",
    "                       'Ideal for socially responsible investors focused on sustainability and ethical investing',\n",
    "                       'For growth-oriented investors looking for long-term capital appreciation',\n",
    "                       'Attractive to income-seeking investors focused on dividend income',\n",
    "                       'Suitable for long-term investors seeking companies with strong fundamentals',\n",
    "                       'Ideal for value investors looking for undervalued stocks',\n",
    "                       'Suitable for Shariah-compliant investors following Islamic investment principles',\n",
    "                       'For investors seeking diversified exposure to Indonesia’s liquid stocks',\n",
    "                       'Blue-chip focused, for investors looking for stability and long-term growth potential',\n",
    "                       'For investors bullish on infrastructure growth and development projects in Indonesia',\n",
    "                       'Ideal for ESG investors prioritizing sustainable business practices',\n",
    "                       'Same as SRIKEHA18, for socially responsible investors']\n",
    "}\n",
    "\n",
    "# Load into a pandas DataFrame\n",
    "df_index_info = pd.DataFrame(index_data)\n",
    "\n",
    "# Display the DataFrame\n",
    "df_index_info"
   ]
  },
  {
   "cell_type": "markdown",
   "metadata": {},
   "source": [
    "Which index caught your attention? What do you want to choose?"
   ]
  },
  {
   "cell_type": "markdown",
   "metadata": {},
   "source": [
    "# Section 2 - Where to start?"
   ]
  },
  {
   "cell_type": "markdown",
   "metadata": {},
   "source": [
    "Recommendation: **Match your investment goals with the property of stock index**"
   ]
  },
  {
   "cell_type": "code",
   "execution_count": 30,
   "metadata": {},
   "outputs": [
    {
     "data": {
      "text/html": [
       "<div>\n",
       "<style scoped>\n",
       "    .dataframe tbody tr th:only-of-type {\n",
       "        vertical-align: middle;\n",
       "    }\n",
       "\n",
       "    .dataframe tbody tr th {\n",
       "        vertical-align: top;\n",
       "    }\n",
       "\n",
       "    .dataframe thead th {\n",
       "        text-align: right;\n",
       "    }\n",
       "</style>\n",
       "<table border=\"1\" class=\"dataframe\">\n",
       "  <thead>\n",
       "    <tr style=\"text-align: right;\">\n",
       "      <th></th>\n",
       "      <th>Criteria</th>\n",
       "      <th>Description</th>\n",
       "      <th>Persona</th>\n",
       "      <th>Recommended Index</th>\n",
       "    </tr>\n",
       "  </thead>\n",
       "  <tbody>\n",
       "    <tr>\n",
       "      <th>0</th>\n",
       "      <td>Liquidity &amp; Stability</td>\n",
       "      <td>Investors looking for highly liquid and stable...</td>\n",
       "      <td>Maria, a risk-averse retiree seeking low volat...</td>\n",
       "      <td>IDX30, LQ45, KOMPAS100</td>\n",
       "    </tr>\n",
       "    <tr>\n",
       "      <th>1</th>\n",
       "      <td>Government-Owned Enterprises</td>\n",
       "      <td>For investors interested in companies benefiti...</td>\n",
       "      <td>Adi, a public sector enthusiast who trusts gov...</td>\n",
       "      <td>IDXBUMN20</td>\n",
       "    </tr>\n",
       "    <tr>\n",
       "      <th>2</th>\n",
       "      <td>Dividend Focus</td>\n",
       "      <td>Ideal for those seeking regular income from di...</td>\n",
       "      <td>Siti, a conservative investor who prefers stab...</td>\n",
       "      <td>IDXHIDIV20</td>\n",
       "    </tr>\n",
       "    <tr>\n",
       "      <th>3</th>\n",
       "      <td>Growth-Oriented</td>\n",
       "      <td>Suitable for long-term investors focusing on c...</td>\n",
       "      <td>Kevin, a young professional aiming for long-te...</td>\n",
       "      <td>IDXG30</td>\n",
       "    </tr>\n",
       "    <tr>\n",
       "      <th>4</th>\n",
       "      <td>Value Stocks</td>\n",
       "      <td>Investors seeking undervalued stocks trading b...</td>\n",
       "      <td>Tom, a value investor who looks for bargain st...</td>\n",
       "      <td>IDXV30</td>\n",
       "    </tr>\n",
       "    <tr>\n",
       "      <th>5</th>\n",
       "      <td>High-Quality Financials</td>\n",
       "      <td>Focus on stocks with strong fundamentals and g...</td>\n",
       "      <td>Dewi, a financial analyst who invests in compa...</td>\n",
       "      <td>IDXQ30</td>\n",
       "    </tr>\n",
       "    <tr>\n",
       "      <th>6</th>\n",
       "      <td>Shariah-Compliant Investments</td>\n",
       "      <td>For investors following Islamic principles.</td>\n",
       "      <td>Ahmad, a devout Muslim who prioritizes Shariah...</td>\n",
       "      <td>JII70</td>\n",
       "    </tr>\n",
       "    <tr>\n",
       "      <th>7</th>\n",
       "      <td>Socially Responsible Investments</td>\n",
       "      <td>Investors interested in ESG (environmental, so...</td>\n",
       "      <td>Sarah, an environmentally conscious investor f...</td>\n",
       "      <td>IDXESGL, SRIKEHA18, SRIKEHATI</td>\n",
       "    </tr>\n",
       "    <tr>\n",
       "      <th>8</th>\n",
       "      <td>Infrastructure Focus</td>\n",
       "      <td>For investors bullish on Indonesia's infrastru...</td>\n",
       "      <td>Indra, an infrastructure expert optimistic abo...</td>\n",
       "      <td>SMINFA18</td>\n",
       "    </tr>\n",
       "    <tr>\n",
       "      <th>9</th>\n",
       "      <td>Broad Market Exposure</td>\n",
       "      <td>For investors wanting diversified exposure acr...</td>\n",
       "      <td>Emily, a diversified investor looking for broa...</td>\n",
       "      <td>FTSE, KOMPAS100</td>\n",
       "    </tr>\n",
       "  </tbody>\n",
       "</table>\n",
       "</div>"
      ],
      "text/plain": [
       "                           Criteria  \\\n",
       "0             Liquidity & Stability   \n",
       "1      Government-Owned Enterprises   \n",
       "2                    Dividend Focus   \n",
       "3                   Growth-Oriented   \n",
       "4                      Value Stocks   \n",
       "5           High-Quality Financials   \n",
       "6     Shariah-Compliant Investments   \n",
       "7  Socially Responsible Investments   \n",
       "8              Infrastructure Focus   \n",
       "9             Broad Market Exposure   \n",
       "\n",
       "                                         Description  \\\n",
       "0  Investors looking for highly liquid and stable...   \n",
       "1  For investors interested in companies benefiti...   \n",
       "2  Ideal for those seeking regular income from di...   \n",
       "3  Suitable for long-term investors focusing on c...   \n",
       "4  Investors seeking undervalued stocks trading b...   \n",
       "5  Focus on stocks with strong fundamentals and g...   \n",
       "6        For investors following Islamic principles.   \n",
       "7  Investors interested in ESG (environmental, so...   \n",
       "8  For investors bullish on Indonesia's infrastru...   \n",
       "9  For investors wanting diversified exposure acr...   \n",
       "\n",
       "                                             Persona  \\\n",
       "0  Maria, a risk-averse retiree seeking low volat...   \n",
       "1  Adi, a public sector enthusiast who trusts gov...   \n",
       "2  Siti, a conservative investor who prefers stab...   \n",
       "3  Kevin, a young professional aiming for long-te...   \n",
       "4  Tom, a value investor who looks for bargain st...   \n",
       "5  Dewi, a financial analyst who invests in compa...   \n",
       "6  Ahmad, a devout Muslim who prioritizes Shariah...   \n",
       "7  Sarah, an environmentally conscious investor f...   \n",
       "8  Indra, an infrastructure expert optimistic abo...   \n",
       "9  Emily, a diversified investor looking for broa...   \n",
       "\n",
       "               Recommended Index  \n",
       "0         IDX30, LQ45, KOMPAS100  \n",
       "1                      IDXBUMN20  \n",
       "2                     IDXHIDIV20  \n",
       "3                         IDXG30  \n",
       "4                         IDXV30  \n",
       "5                         IDXQ30  \n",
       "6                          JII70  \n",
       "7  IDXESGL, SRIKEHA18, SRIKEHATI  \n",
       "8                       SMINFA18  \n",
       "9                FTSE, KOMPAS100  "
      ]
     },
     "execution_count": 30,
     "metadata": {},
     "output_type": "execute_result"
    }
   ],
   "source": [
    "import pandas as pd\n",
    "\n",
    "# Dictionary representing the stock index information with persona examples\n",
    "index_criteria = {\n",
    "    'Criteria': [\n",
    "        'Liquidity & Stability',\n",
    "        'Government-Owned Enterprises',\n",
    "        'Dividend Focus',\n",
    "        'Growth-Oriented',\n",
    "        'Value Stocks',\n",
    "        'High-Quality Financials',\n",
    "        'Shariah-Compliant Investments',\n",
    "        'Socially Responsible Investments',\n",
    "        'Infrastructure Focus',\n",
    "        'Broad Market Exposure'\n",
    "    ],\n",
    "    'Description': [\n",
    "        'Investors looking for highly liquid and stable stocks that are less volatile.',\n",
    "        'For investors interested in companies benefiting from government backing and policies.',\n",
    "        'Ideal for those seeking regular income from dividends.',\n",
    "        'Suitable for long-term investors focusing on capital appreciation.',\n",
    "        'Investors seeking undervalued stocks trading below intrinsic value.',\n",
    "        'Focus on stocks with strong fundamentals and good financial health.',\n",
    "        'For investors following Islamic principles.',\n",
    "        'Investors interested in ESG (environmental, social, governance) and ethical business practices.',\n",
    "        'For investors bullish on Indonesia\\'s infrastructure growth.',\n",
    "        'For investors wanting diversified exposure across large segments of the market.'\n",
    "    ],\n",
    "    'Persona': [\n",
    "        'Maria, a risk-averse retiree seeking low volatility and stable returns.',\n",
    "        'Adi, a public sector enthusiast who trusts government-driven initiatives.',\n",
    "        'Siti, a conservative investor who prefers stable income from dividends.',\n",
    "        'Kevin, a young professional aiming for long-term wealth through capital growth.',\n",
    "        'Tom, a value investor who looks for bargain stocks below intrinsic value.',\n",
    "        'Dewi, a financial analyst who invests in companies with strong fundamentals.',\n",
    "        'Ahmad, a devout Muslim who prioritizes Shariah-compliant investments.',\n",
    "        'Sarah, an environmentally conscious investor focusing on ethical companies.',\n",
    "        'Indra, an infrastructure expert optimistic about Indonesia\\'s construction growth.',\n",
    "        'Emily, a diversified investor looking for broad market exposure and lower risk.'\n",
    "    ],\n",
    "    'Recommended Index': [\n",
    "        'IDX30, LQ45, KOMPAS100',\n",
    "        'IDXBUMN20',\n",
    "        'IDXHIDIV20',\n",
    "        'IDXG30',\n",
    "        'IDXV30',\n",
    "        'IDXQ30',\n",
    "        'JII70',\n",
    "        'IDXESGL, SRIKEHA18, SRIKEHATI',\n",
    "        'SMINFA18',\n",
    "        'FTSE, KOMPAS100'\n",
    "    ]\n",
    "}\n",
    "\n",
    "df_index_criteria = pd.DataFrame(index_criteria)\n",
    "\n",
    "df_index_criteria"
   ]
  },
  {
   "cell_type": "markdown",
   "metadata": {},
   "source": [
    "While it’s crucial to evaluate a stock’s internal characteristics—such as its nature, properties, and the type of investor it appeals to—external macroeconomic factors play an equally important role in guiding stock index selection. **These broader economic conditions, including inflation rates, government policies, and global market trends, are key determinants in the performance of various sectors**. Therefore, understanding both your investment persona and the prevailing macroeconomic landscape is essential for making informed decisions."
   ]
  },
  {
   "cell_type": "markdown",
   "metadata": {},
   "source": [
    "Now let’s assume my client is Indra, an infrastructure expert optimistic about Indonesia’s construction growth. To confirm focusing solely on SMINFA18, we need to observe the following macroeconomic factors:\n",
    "\n",
    "- Government infrastructure spending: Announcements of new airports and highways as public projects.\n",
    "- Interest Rate policies: Indonesia’s central bank lowers interest rates.\n",
    "- Commodity prices: Steel and cement prices drop due to global supply chain restructuring.\n",
    "- Foreign Direct investment: China increases investment in Indonesia’s high-speed rail projects.\n",
    "We will build the following content for our client Mr. X."
   ]
  },
  {
   "cell_type": "markdown",
   "metadata": {},
   "source": [
    "How to choose specific stocks from an index will be discussed in section 4."
   ]
  },
  {
   "cell_type": "markdown",
   "metadata": {},
   "source": [
    "# Section 3 - Data Collection from Sectors API"
   ]
  },
  {
   "cell_type": "markdown",
   "metadata": {},
   "source": [
    "## Section 3.1 - Stock Price Information"
   ]
  },
  {
   "cell_type": "code",
   "execution_count": 31,
   "metadata": {},
   "outputs": [
    {
     "ename": "ModuleNotFoundError",
     "evalue": "No module named 'google'",
     "output_type": "error",
     "traceback": [
      "\u001b[1;31m---------------------------------------------------------------------------\u001b[0m",
      "\u001b[1;31mModuleNotFoundError\u001b[0m                       Traceback (most recent call last)",
      "Cell \u001b[1;32mIn[31], line 5\u001b[0m\n\u001b[0;32m      3\u001b[0m \u001b[38;5;28;01mimport\u001b[39;00m \u001b[38;5;21;01mtime\u001b[39;00m\n\u001b[0;32m      4\u001b[0m \u001b[38;5;28;01mimport\u001b[39;00m \u001b[38;5;21;01mrequests\u001b[39;00m\n\u001b[1;32m----> 5\u001b[0m \u001b[38;5;28;01mfrom\u001b[39;00m \u001b[38;5;21;01mgoogle\u001b[39;00m\u001b[38;5;21;01m.\u001b[39;00m\u001b[38;5;21;01mcolab\u001b[39;00m \u001b[38;5;28;01mimport\u001b[39;00m userdata\n\u001b[0;32m      7\u001b[0m \u001b[38;5;66;03m# Retrieve the API key securely\u001b[39;00m\n\u001b[0;32m      8\u001b[0m api_key \u001b[38;5;241m=\u001b[39m userdata\u001b[38;5;241m.\u001b[39mget(\u001b[38;5;124m'\u001b[39m\u001b[38;5;124mSECTORS_API_KEY\u001b[39m\u001b[38;5;124m'\u001b[39m)\n",
      "\u001b[1;31mModuleNotFoundError\u001b[0m: No module named 'google'"
     ]
    }
   ],
   "source": [
    "# Retrive Stock index from \"Companies by Index\" API\n",
    "\n",
    "import time\n",
    "import requests\n",
    "from google.colab import userdata\n",
    "\n",
    "# Retrieve the API key securely\n",
    "api_key = userdata.get('SECTORS_API_KEY')\n",
    "\n",
    "# Define the API URL\n",
    "url = \"https://api.sectors.app/v1/index/sminfra18/\"\n",
    "\n",
    "# Pass the API key in the header\n",
    "headers = {\"Authorization\": api_key}\n",
    "\n",
    "# Make the API request\n",
    "response_company_index = requests.get(url, headers=headers)\n",
    "\n",
    "print(response_company_index.text)"
   ]
  },
  {
   "cell_type": "code",
   "execution_count": null,
   "metadata": {},
   "outputs": [],
   "source": [
    "# Retrieve date and price from \"Daily Transaction Data\" API\n",
    "\n",
    "from datetime import datetime, timedelta\n",
    "\n",
    "# Function to calculate the date 90 days ago from today\n",
    "def calculate_start_date(days_ago=90):\n",
    "    return (datetime.now() - timedelta(days=days_ago)).strftime('%Y-%m-%d')\n",
    "\n",
    "# Calculate the start date 90 days ago\n",
    "start_date = calculate_start_date()\n",
    "\n",
    "# Looping API info\n",
    "history_sminfra18 = []\n",
    "\n",
    "for i, x in enumerate(response_company_index.json()):\n",
    "\n",
    "  # Define the URL for the API endpoint\n",
    "  url = \"https://api.sectors.app/v1/daily/\" + response_company_index.json()[i]['symbol'] + \"/\"\n",
    "\n",
    "  # Define the query string with the calculated start date\n",
    "  querystring = {\"start\": start_date}\n",
    "\n",
    "  headers = {\"Authorization\": userdata.get('SECTORS_API_KEY')}\n",
    "\n",
    "  response_daily_transaction_data = requests.request(\"GET\", url, headers=headers, params=querystring)\n",
    "\n",
    "  # Append the result into target list\n",
    "  history_sminfra18.append(response_daily_transaction_data.json())\n",
    "\n",
    "  time.sleep(1)"
   ]
  },
  {
   "cell_type": "code",
   "execution_count": null,
   "metadata": {},
   "outputs": [],
   "source": [
    "history_sminfra18"
   ]
  },
  {
   "cell_type": "markdown",
   "metadata": {},
   "source": [
    "## Section 3.2 - Company Report Information"
   ]
  },
  {
   "cell_type": "code",
   "execution_count": null,
   "metadata": {},
   "outputs": [],
   "source": [
    "company_report_sminfra18 = []\n",
    "\n",
    "for i, x in enumerate(response_company_index.json()):\n",
    "\n",
    "  #Define the URL for the API endpoint\n",
    "  url = \"https://api.sectors.app/v1/company/report/\" +  response_company_index.json()[i]['symbol'] + \"/\"\n",
    "\n",
    "  headers = {\"Authorization\": userdata.get('SECTORS_API_KEY')}\n",
    "\n",
    "  #Make the API request\n",
    "  response_company_report = requests.request(\"GET\", url, headers=headers)\n",
    "\n",
    "  # Append the result into target list\n",
    "  company_report_sminfra18.append(response_company_report.json())\n",
    "\n",
    "  time.sleep(1)"
   ]
  },
  {
   "cell_type": "code",
   "execution_count": null,
   "metadata": {},
   "outputs": [],
   "source": [
    "# Create a subset to retrieve relative information for analysis\n",
    "prepared_data = []\n",
    "\n",
    "# Looping through companies in the index\n",
    "for company in company_report_sminfra18:\n",
    "  current_company = {}\n",
    "\n",
    "# Accessing relative API information\n",
    "  current_company['symbol'] = company['symbol']\n",
    "  current_company['company_name'] = company['company_name']\n",
    "  current_company['industry'] = company['overview']['industry']\n",
    "  current_company['sub_industry'] = company['overview']['sub_industry']\n",
    "  current_company['sector'] = company['overview']['sector']\n",
    "\n",
    "# For the forecast variables (\"company_growth_forecasts\" and \"company_value_forecasts\"), we can see that they have both year 2024 and 2025 forecast\n",
    "\n",
    "# Create a function to only capture year 2025 value\n",
    "  if company['future']['company_value_forecasts'] != None:\n",
    "    for i, forecast in enumerate(company['future']['company_value_forecasts']):\n",
    "      if forecast['estimate_year'] == 2025:\n",
    "        position = i\n",
    "\n",
    "# This code below, we can see that estimate_year has both 2024 and 2025, we only want forecast variables based on year 2025\n",
    "# We also observe that the year is the same for 'company_value_forecast' and 'company_growth_forecasts'\n",
    "# Meaning we just create 1 function to use one variable is enough to capture all the year to 2025 for forecasting variables\n",
    "    #print(company['future']['company_value_forecasts'][0]['estimate_year'])\n",
    "    #print(company['future']['company_growth_forecasts'][0]['estimate_year'])\n",
    "    #print('next')\n",
    "\n",
    "\n",
    "# Exception handling in case the value is empty to double secure the result\n",
    "\n",
    "  try:\n",
    "    current_company['eps_estimate'] = company['future']['company_value_forecasts'][position]['eps_estimate']\n",
    "  except:\n",
    "    current_company['eps_estimate'] = 0\n",
    "\n",
    "  try:\n",
    "    current_company['revenue_estimate'] = company['future']['company_value_forecasts'][position]['revenue_estimate']\n",
    "  except:\n",
    "    current_company['revenue_estimate'] = 0\n",
    "\n",
    "  try:\n",
    "    current_company['eps_growth'] = company['future']['company_growth_forecasts'][position]['eps_growth']\n",
    "  except:\n",
    "    current_company['eps_growth'] = 0\n",
    "\n",
    "  try:\n",
    "    current_company['revenue_growth'] = company['future']['company_growth_forecasts'][position]['revenue_growth']\n",
    "  except:\n",
    "    current_company['revenue_growth'] = 0\n",
    "\n",
    "  try:\n",
    "    current_company['total_dividends'] = company['dividend']['annual_yield'][0]['total']\n",
    "  except:\n",
    "    current_company['total_dividends'] = 0\n",
    "\n",
    "  try:\n",
    "    current_company['avg_yield_dividends'] = company['dividend']['dividend_yield_avg']['avg_yield']\n",
    "  except:\n",
    "    current_company['avg_yield_dividends'] = 0\n",
    "\n",
    "  prepared_data.append(current_company)\n",
    "\n",
    "prepared_data"
   ]
  },
  {
   "cell_type": "markdown",
   "metadata": {},
   "source": [
    "# Section 4 - Which Stock to choose?"
   ]
  },
  {
   "cell_type": "markdown",
   "metadata": {},
   "source": [
    "## Section 4.1 - Data Preprocessing"
   ]
  },
  {
   "cell_type": "markdown",
   "metadata": {},
   "source": [
    "**How to select stocks?**\n",
    "\n",
    "For our client Mr. X, who’s focused on stocks from the SMInfra18 index and doesn't want to invest in the ente it’s time to carefully select the right stocks.\n",
    "\n",
    "Several key economic factors should guide stock selection from an index:\n",
    "\n",
    "- Diversification by Industry and Sector: Ensuring exposure across different sectors to reduce risk.\n",
    "- Diversification by Correlation and Returns: Selecting stocks that offer varied returns and are not too closely correlated.\n",
    "- Company Growth and Dividend Information: Choosing companies with strong growth potential and reliable dividend payouts.\n",
    "\n",
    "Other factors, like recent projects, mergers, acquisitions, and broader macroeconomic or geopolitical policies, are also worth considering, though we won’t delve into them here.\n",
    "\n",
    "In this section, we will employ a range of data analysis techniques, along with our expertise in stock selection, to identify two suitable stocks from a pool of 18 for our client, Indra, to invest in."
   ]
  },
  {
   "cell_type": "markdown",
   "metadata": {},
   "source": [
    "Step 1: Create a Dataframe for historical stock performance"
   ]
  },
  {
   "cell_type": "code",
   "execution_count": null,
   "metadata": {},
   "outputs": [],
   "source": [
    "# Import all useful libraries\n",
    "import numpy as np\n",
    "import pandas as pd"
   ]
  },
  {
   "cell_type": "code",
   "execution_count": null,
   "metadata": {},
   "outputs": [],
   "source": [
    "# Flatten the list of lists into a single list of dictionaries\n",
    "flattened_data = [item for sublist in history_sminfra18 for item in sublist]\n",
    "\n",
    "# Convert to a pandas DataFrame\n",
    "df_history_sminfra18 = pd.DataFrame(flattened_data)\n",
    "\n",
    "# Ensure 'date' is in datetime format\n",
    "df_history_sminfra18['date'] = pd.to_datetime(df_history_sminfra18['date'])\n",
    "\n",
    "# Enforce in case any column needs conversion (e.g., 'close', 'volume', 'market_cap')\n",
    "df_history_sminfra18['close'] = pd.to_numeric(df_history_sminfra18['close'], errors='coerce')\n",
    "df_history_sminfra18['volume'] = pd.to_numeric(df_history_sminfra18['volume'], errors='coerce')\n",
    "df_history_sminfra18['market_cap'] = pd.to_numeric(df_history_sminfra18['market_cap'], errors='coerce')\n",
    "\n",
    "# Check for the first few rows to ensure everything is correct\n",
    "print(df_history_sminfra18)"
   ]
  },
  {
   "cell_type": "code",
   "execution_count": null,
   "metadata": {},
   "outputs": [],
   "source": [
    "# We aim to have all the stock price evolution in the past 90 days in one dataframe\n",
    "\n",
    "#Pivot the DataFrame so that the 'symbol' becomes the column names and 'date' becomes the index\n",
    "df_pivot_history_sminfra18 = df_history_sminfra18.pivot_table(index='date', columns='symbol', values='close')\n",
    "df_pivot_history_sminfra18.head()"
   ]
  },
  {
   "cell_type": "code",
   "execution_count": null,
   "metadata": {},
   "outputs": [],
   "source": [
    "#Save the DataFrame to a CSV file -- we need to use this for MVO analysis\n",
    "#df_pivot_history_sminfra18.to_csv('stock_prices_sminfra18.csv', index=False)"
   ]
  },
  {
   "cell_type": "markdown",
   "metadata": {},
   "source": [
    "Step 2: Create a Dataframe for company report"
   ]
  },
  {
   "cell_type": "code",
   "execution_count": null,
   "metadata": {},
   "outputs": [],
   "source": [
    "df_sminfra18_company_report = pd.DataFrame(prepared_data)\n",
    "df_sminfra18_company_report"
   ]
  },
  {
   "cell_type": "markdown",
   "metadata": {},
   "source": [
    "## Section 4.2 - Exploratory Data Analysis (EDA)"
   ]
  },
  {
   "cell_type": "markdown",
   "metadata": {},
   "source": [
    "Our goal is to select two or three stocks from a list of 18 for Mr. X to invest in.\n",
    "\n",
    "At the beginning of this section, we outlined three strategies:\n",
    "\n",
    "Diversification by Industry and Sector: Conduct an overview analysis to understand the information better.\n",
    "Diversification by Correlation: Examine the correlation matrix based on stock price evolution.\n",
    "Company Growth and Dividend Information: Extract all relevant information beyond sector and industry, normalize the data, and assign a score to each stock."
   ]
  },
  {
   "cell_type": "markdown",
   "metadata": {},
   "source": [
    "Overview of Sectors and Industries"
   ]
  },
  {
   "cell_type": "code",
   "execution_count": null,
   "metadata": {},
   "outputs": [],
   "source": [
    "# Categorize stocks by industries\n",
    "df_sminfra18_company_report.industry.value_counts()"
   ]
  },
  {
   "cell_type": "code",
   "execution_count": null,
   "metadata": {},
   "outputs": [],
   "source": [
    "# Categorize stocks by sectors\n",
    "df_sminfra18_company_report.sector.value_counts()"
   ]
  },
  {
   "cell_type": "markdown",
   "metadata": {},
   "source": [
    "Correlation Matrix on stock price evolution"
   ]
  },
  {
   "cell_type": "code",
   "execution_count": null,
   "metadata": {},
   "outputs": [],
   "source": [
    "# Calculate the correlation of the 18 stock prices\n",
    "correlation_matrix = df_pivot_history_sminfra18.corr()\n",
    "correlation_matrix"
   ]
  },
  {
   "cell_type": "markdown",
   "metadata": {},
   "source": [
    "## Section 4.3 - Normalization & Scoring"
   ]
  },
  {
   "cell_type": "code",
   "execution_count": null,
   "metadata": {},
   "outputs": [],
   "source": [
    "# Import library for normalization\n",
    "from sklearn.preprocessing import MinMaxScaler\n",
    "\n",
    "# Extract useful information for normalization analysis\n",
    "columns_of_interest = ['symbol', 'eps_growth', 'avg_yield_dividends', 'revenue_growth', 'revenue_estimate']\n",
    "df_sminfra18_company_report_norm = df_sminfra18_company_report[columns_of_interest]\n",
    "df_sminfra18_company_report_norm"
   ]
  },
  {
   "cell_type": "code",
   "execution_count": null,
   "metadata": {},
   "outputs": [],
   "source": [
    "# Check missing data\n",
    "df_sminfra18_company_report_norm.isnull().sum()"
   ]
  },
  {
   "cell_type": "code",
   "execution_count": null,
   "metadata": {},
   "outputs": [],
   "source": [
    "# Impute missing data with mean - we do a simple imputation here, can also check the reason and correlation with other variables behind missing data\n",
    "df_sminfra18_company_report_norm.fillna(df_sminfra18_company_report_norm.eps_growth.mean(), inplace=True)\n",
    "df_sminfra18_company_report_norm.isnull().sum()"
   ]
  },
  {
   "cell_type": "code",
   "execution_count": null,
   "metadata": {},
   "outputs": [],
   "source": [
    "# Normalize the data for the metrics using MinMaxScaler\n",
    "scaler = MinMaxScaler()\n",
    "df_sminfra18_company_report_norm[['eps_growth', 'avg_yield_dividends', 'revenue_growth', 'revenue_estimate']] = scaler.fit_transform(df_sminfra18_company_report_norm[['eps_growth', 'avg_yield_dividends', 'revenue_growth', 'revenue_estimate']])"
   ]
  },
  {
   "cell_type": "code",
   "execution_count": null,
   "metadata": {},
   "outputs": [],
   "source": [
    "# Add a ranking system by summing the normalized scores for all metrics\n",
    "df_sminfra18_company_report_norm['score'] = df_sminfra18_company_report_norm.iloc[:, 1:5].sum(axis=1)\n",
    "df_sminfra18_company_report_norm"
   ]
  },
  {
   "cell_type": "code",
   "execution_count": null,
   "metadata": {},
   "outputs": [],
   "source": [
    "# Sort the companies by total score\n",
    "df_sminfra18_company_report_norm = df_sminfra18_company_report_norm.sort_values(by='score', ascending=False).reset_index(drop=True)\n",
    "df_sminfra18_company_report_norm"
   ]
  },
  {
   "cell_type": "code",
   "execution_count": null,
   "metadata": {},
   "outputs": [],
   "source": [
    "# Pick the top 5 companies\n",
    "top_5_companies = df_sminfra18_company_report_norm.head(5)\n",
    "top_5_companies"
   ]
  },
  {
   "cell_type": "markdown",
   "metadata": {},
   "source": [
    "## Section 4.4 - Stock selection choice"
   ]
  },
  {
   "cell_type": "markdown",
   "metadata": {},
   "source": [
    "Based on the results from Section 4.3, we have identified the top five stock tickers that we should consider for selection, as they have received the highest scores.\n",
    "\n",
    "Next, we will implement our diversification strategy, focusing on industry and sector, as well as correlation analysis, to select two stocks from this group of five high-scoring candidates."
   ]
  },
  {
   "cell_type": "code",
   "execution_count": null,
   "metadata": {},
   "outputs": [],
   "source": [
    "# Store the top 5 company symbol into a list\n",
    "top_5_symbols = top_5_companies['symbol'].tolist()\n",
    "top_5_symbols"
   ]
  },
  {
   "cell_type": "code",
   "execution_count": null,
   "metadata": {},
   "outputs": [],
   "source": [
    "# Store the top 5 company symbol into a list\n",
    "top_5_symbols = top_5_companies['symbol'].tolist()\n",
    "top_5_symbols"
   ]
  },
  {
   "cell_type": "markdown",
   "metadata": {},
   "source": [
    "We have three stocks are all in banking industry / financial sector. For those three tickers (BBNI.JK, BBRI.JK, BMRI.JK), we choose the ticker with the highest score - BBRI.JK.\n",
    "\n",
    "Now we have our choice: BBRI.JK, TLKM.JK, UNTR.JK.\n",
    "\n",
    "We need to confirm that their price movement doesn't have high positive correlation."
   ]
  },
  {
   "cell_type": "code",
   "execution_count": null,
   "metadata": {},
   "outputs": [],
   "source": [
    "# Query the price history info for selected 3 tickers and check correlation\n",
    "selected_3_symbols =  ['BBRI.JK', 'TLKM.JK', 'UNTR.JK']\n",
    "selected_3_prices = df_pivot_history_sminfra18[selected_3_symbols]\n",
    "correlation_matrix_selected = selected_3_prices.corr()\n",
    "correlation_matrix_selected"
   ]
  },
  {
   "cell_type": "markdown",
   "metadata": {},
   "source": [
    "TLKM.JK and BBRI.JK, their price has strong positive correlation! We drop one and only select BBRI.JK, since it has the highest score regarding growth potential analysis.\n",
    "\n",
    "To sum up, our final choices are two stocks: BBRI.JK & UNTR.JK."
   ]
  },
  {
   "cell_type": "code",
   "execution_count": null,
   "metadata": {},
   "outputs": [],
   "source": [
    "Indra_stocks = ['BBRI.JK', 'UNTR.JK']"
   ]
  },
  {
   "cell_type": "code",
   "execution_count": null,
   "metadata": {},
   "outputs": [],
   "source": [
    "# Query the price info for Indra_stocks\n",
    "price_Indra = df_pivot_history_sminfra18[Indra_stocks]\n",
    "price_Indra.head()"
   ]
  },
  {
   "cell_type": "code",
   "execution_count": null,
   "metadata": {},
   "outputs": [],
   "source": [
    "# Vizualize the movement of Indra's two stocks for the past 90 days\n",
    "import matplotlib.pyplot as plt\n",
    "\n",
    "# Plotting the prices for both BBRI.JK and UNTR.JK\n",
    "plt.figure(figsize=(10, 6))\n",
    "\n",
    "# Plot BBRI.JK stock prices\n",
    "plt.plot(price_Indra.index, price_Indra['BBRI.JK'], label='BBRI.JK', marker='o')\n",
    "\n",
    "# Plot UNTR.JK stock prices\n",
    "plt.plot(price_Indra.index, price_Indra['UNTR.JK'], label='UNTR.JK', marker='o')\n",
    "\n",
    "# Adding title and labels\n",
    "plt.title('Price Performance of BBRI.JK and UNTR.JK', fontsize=16)\n",
    "plt.xlabel('Date', fontsize=12)\n",
    "plt.ylabel('Stock Price (IDR)', fontsize=12)\n",
    "\n",
    "# Displaying a legend to distinguish between the two stocks\n",
    "plt.legend()\n",
    "\n",
    "# Adding grid for better readability\n",
    "plt.grid(True, linestyle=':', linewidth=1)\n",
    "\n",
    "# Display the plot\n",
    "plt.xticks(rotation=45)  # Rotate the x-axis labels for better readability\n",
    "plt.tight_layout()  # Ensure everything fits well in the plot\n",
    "plt.show()"
   ]
  },
  {
   "cell_type": "markdown",
   "metadata": {},
   "source": [
    "# Section 5 - MVO with Monte Carlos Simulation"
   ]
  },
  {
   "cell_type": "markdown",
   "metadata": {},
   "source": [
    "## Section 5.1 - Theoretical Context"
   ]
  },
  {
   "cell_type": "markdown",
   "metadata": {},
   "source": [
    "After understanding which stock to invest in, here are some key questions:\n",
    "\n",
    "- How much of each stock should we hold?\n",
    "- How to balance between risk and reward?\n",
    "\n",
    "This is where Mean-Variance Optimization (MVO) comes in. It’s a method to help us find the optimal way to allocate our capital among various stocks - find the optimal weight.\n",
    "\n",
    "What are the information we need?\n",
    "\n",
    "1. Expected Returns: This is the average return you expect from each stock based on historical performance.\n",
    "\n",
    "2. Risk (Volatility): Risk is measured as the variance (or more commonly, standard deviation) of the returns. It shows how much the stock’s returns fluctuate.\n",
    "\n",
    "3. Covariance Between Stocks: Covariance tells us how the returns of two stocks move together. Some stocks may go up and down at the same time (positive covariance), while others may move in opposite directions (negative covariance). Covariance helps us understand how diversification can reduce risk.\n",
    "\n",
    "Step 2: Build the Model\n",
    "\n",
    "Once we have this data, the next step is to use it to construct a portfolio of stocks. The goal of the model is twofold:\n",
    "\n",
    "- Maximize Return: We want to achieve the highest possible return for a given amount of risk.\n",
    "- Minimize Risk: Alternatively, we might want to minimize risk while achieving a certain return level.\n",
    "\n",
    "Consult the mathematical model here: [link text](https://en.wikipedia.org/wiki/Modern_portfolio_theory)\n",
    "\n",
    "Step 3: Optimize the Portfolio through Sharp Ratio\n",
    "\n",
    "Now that the model is built, we can use it to optimize the portfolio. This means:\n",
    "\n",
    "- Maximizing Return for a Given Level of Risk: This is suitable for investors who are willing to take on some risk but want to get the highest return for that risk level.\n",
    "- Minimizing Risk for a Given Return: This is helpful for more conservative investors who want to reduce risk as much as possible while still achieving a certain return.\n",
    "\n",
    "This optimization results will generate an Efficient Frontier:\n",
    "\n",
    "A curve that shows the best possible portfolios in terms of risk and return. Every point on the frontier represents a portfolio that either minimizes risk for a given return or maximizes return for a given risk.\n",
    "\n",
    "The highest sharp ratio point, which lies on the efficient frontier, gives the optimal portfolio weight.\n",
    "\n",
    "Bibliography:\n",
    "\n",
    "Useful math for Portfolio Optimization. [link](chrome-extension://efaidnbmnnnibpcajpcglclefindmkaj/https://www.fields.utoronto.ca/programs/scientific/09-10/finance/courses/pliska3.pdf)\n",
    "\n",
    "Understand basic concepts of mean (return), variance (risk) and how they work in investing. [link](https://smartasset.com/financial-advisor/mean-variance-optimization)\n",
    "\n",
    "Understand Mean Variance Optimization Model. [link](https://analystprep.com/study-notes/cfa-level-iii/mean-variance-optimization-an-overview/#:~:text=Mean%2Dvariance%20optimization%20(%E2%80%9CMVO,risk%2Dto%2Dreturn%20profile.))"
   ]
  },
  {
   "cell_type": "markdown",
   "metadata": {},
   "source": [
    "## Section 5.2 - Mean & Variance"
   ]
  },
  {
   "cell_type": "markdown",
   "metadata": {},
   "source": [
    "For this section, for a better illustration of the model, we will randomly generate 4 stocks from the sminfra18 to compose a portfolio to optimize."
   ]
  },
  {
   "cell_type": "code",
   "execution_count": null,
   "metadata": {},
   "outputs": [],
   "source": [
    "# Import all useful libraries\n",
    "import pandas as pd\n",
    "import numpy as np\n",
    "import matplotlib.pyplot as plt\n",
    "import seaborn as sns"
   ]
  },
  {
   "cell_type": "code",
   "execution_count": null,
   "metadata": {},
   "outputs": [],
   "source": [
    "# Randomly select 4 stocks from sminfra18\n",
    "sminfra18_tickers = df_pivot_history_sminfra18.columns.tolist()\n",
    "\n",
    "selected_stocks = np.random.choice(sminfra18_tickers, size=4, replace=False)\n",
    "selected_stocks"
   ]
  },
  {
   "cell_type": "code",
   "execution_count": null,
   "metadata": {},
   "outputs": [],
   "source": [
    "# Query the price info for the selected stocks\n",
    "prices = df_pivot_history_sminfra18[selected_stocks]\n",
    "prices.head()"
   ]
  },
  {
   "cell_type": "code",
   "execution_count": null,
   "metadata": {},
   "outputs": [],
   "source": [
    "# Calculate Returns\n",
    "returns = pd.DataFrame()\n",
    "\n",
    "for stock in prices:\n",
    "  returns[stock + ' Returns'] = prices[stock].pct_change().dropna()\n",
    "\n",
    "returns.head()"
   ]
  },
  {
   "cell_type": "code",
   "execution_count": null,
   "metadata": {},
   "outputs": [],
   "source": [
    "# Calculate expected returns (mean) and covariance matrix\n",
    "# Assuming 252 is the trading days in a year = 365 - weekends 104 - holidays 9\n",
    "# We need to annualize the return and risk since MVO models are long-term orientated and long-term in economics perspectives refers to 12 months +\n",
    "\n",
    "expected_returns = (1 + returns.mean()) ** 252 - 1 # Annualize by multiplying by trading days\n",
    "covariance_matrix = (1 + returns.cov()) ** 252 - 1 # Annualize covariance\n",
    "\n",
    "# Print the expected returns and covariance matrix\n",
    "print(\"Expected Returns:\")\n",
    "print(expected_returns)\n",
    "print(\"\\nCovariance Matrix:\")\n",
    "print(covariance_matrix)"
   ]
  },
  {
   "cell_type": "code",
   "execution_count": null,
   "metadata": {},
   "outputs": [],
   "source": [
    "# Here we can see the distribution of each stock returns\n",
    "returns.hist(figsize=(8,6), bins = 50)\n",
    "plt.show()"
   ]
  },
  {
   "cell_type": "markdown",
   "metadata": {},
   "source": [
    "## Section 5.3 Monte Carlo Simulation"
   ]
  },
  {
   "cell_type": "markdown",
   "metadata": {},
   "source": [
    "Monte Carlo simulation is a powerful technique used in portfolio optimization to assess the potential outcomes of different investment strategies or different allocations under varying conditions. It involves generating multiple scenarios based on statistical models and random sampling.\n",
    "\n",
    "Implementing Monte Carlo simulation in Python involves combining statistical analysis, simulation, and optimization techniques to gain insights into portfolio performance under different allocations. For our analysis, we will run a simulation on different allocations of the same stocks to find the optimum allocation. A single run of the simulation is shown in the code below."
   ]
  },
  {
   "cell_type": "code",
   "execution_count": null,
   "metadata": {},
   "outputs": [],
   "source": [
    "# Define Risk Free rate\n",
    "# Assume RF as 6.64% as the yield of 10 year Indonesian Government bond\n",
    "# Source link https://tradingeconomics.com/indonesia/government-bond-yield\n",
    "rf = 0.0664\n",
    "\n",
    "# Monte Carlo simulation\n",
    "#Single Run\n",
    "np.random.seed(101)\n",
    "print(selected_stocks)\n",
    "\n",
    "# Generates an array of random numbers representing initial weights for each asset in the portfolio\n",
    "weights = np.array(np.random.random(4))\n",
    "print('\\nRandom Weights')\n",
    "print(weights)\n",
    "\n",
    "# Normalizing the randomly generated weights to ensure they sum up to 1, representing a fully invested portfolio.\n",
    "print('\\nRebalanced Weights')\n",
    "weights = weights / np.sum(weights)\n",
    "print(weights)\n",
    "\n",
    "# Calculating the portfolio’s expected return using the weighted average of individual asset returns.\n",
    "# It multiplies the annual mean returns of each asset by its respective weight and aggregates them.\n",
    "print('\\nPortfolio Return')\n",
    "portfolio_return = np.sum(returns.mean()*252*weights)\n",
    "print(portfolio_return)\n",
    "\n",
    "# Expected Volatility (Standard Deviation): Using the formula for portfolio volatility, it calculates the square root of the dot product of weights, the covariance matrix of asset returns (multiplied by 252 for annualization), and weights transpose.\n",
    "# The square root of covariance matrix is taken because square root of variance is standard deviation or volatility.\n",
    "print('\\nPortfolio Volatility')\n",
    "portfolio_volatility = np.sqrt(np.dot(weights.T, np.dot(returns.cov()*252, weights)))\n",
    "print(portfolio_volatility)\n",
    "\n",
    "# Sharpe Ratio measures the risk-adjusted return by subtracting the risk-free rate from the portfolio return and dividing by its volatility.\n",
    "print('\\nPortfolio Sharpe Ratio')\n",
    "sharpe_ratio = (portfolio_return - rf) / portfolio_volatility\n",
    "print(sharpe_ratio)"
   ]
  },
  {
   "cell_type": "markdown",
   "metadata": {},
   "source": [
    "Having seen a single run of the simulation above, let us now perform 5000 simulations of the random allocations generated to find the optimum allocation for the four stocks chosen. The portfolio performance will analyzed based on the Sharpe ratio. The Sharpe ratio gives the return delivered per unit of risk taken. The code for the simulation is shown below."
   ]
  },
  {
   "cell_type": "code",
   "execution_count": null,
   "metadata": {},
   "outputs": [],
   "source": [
    "# Specify the number of simulated portfolios to generate (in our case, 5000)\n",
    "num_ports = 5000\n",
    "\n",
    "# A 2D array to store the randomly generated weights for each asset in each portfolio.\n",
    "all_weights = np.zeros((num_ports, len(selected_stocks)))\n",
    "\n",
    "# Create arrays to store portfolio returns, volatilities, and Sharpe ratios for each simulated portfolio.\n",
    "ret_arr = np.zeros(num_ports)\n",
    "vol_arr = np.zeros(num_ports)\n",
    "sharp_arr = np.zeros(num_ports)\n",
    "\n",
    "# Looping over each portfolio\n",
    "for i in range(num_ports):\n",
    "\n",
    "  # Generate random weights randomly assigning weights to each asset in the portfolio and rebalancing them to sum up to 1\n",
    "  weights = np.array(np.random.random(4))\n",
    "  weights = weights / np.sum(weights)\n",
    "  all_weights[i, :] = weights\n",
    "\n",
    "  #Expected return\n",
    "  ret_arr[i] = np.sum((returns.mean() * 252 * weights))\n",
    "\n",
    "  #Expected volatility\n",
    "  vol_arr[i] = np.sqrt(np.dot(weights.T, np.dot(returns.cov() * 252, weights)))\n",
    "\n",
    "  #Sharpe ratio\n",
    "  sharp_arr[i] = (ret_arr[i] - rf) / vol_arr[i]"
   ]
  },
  {
   "cell_type": "markdown",
   "metadata": {},
   "source": [
    "## Section 5.4 - Sharpe Ratio"
   ]
  },
  {
   "cell_type": "markdown",
   "metadata": {},
   "source": [
    "Sharpe ratio measures the risk-adjusted return by subtracting the risk-free rate. We want the portfolio weight randomly generated by Monte Carlo Simulation with the highest sharp ratio.\n",
    "\n",
    "More info [link text](https://www.investopedia.com/terms/s/sharperatio.asp)"
   ]
  },
  {
   "cell_type": "code",
   "execution_count": null,
   "metadata": {},
   "outputs": [],
   "source": [
    "# Retrieve the maximum value from the sharp_arr array\n",
    "max_sr = sharp_arr.max()\n",
    "\n",
    "# Find the index of the portfolio with the maximum Sharpe ratio in the sharp_arr array.\n",
    "max_sr_index = sharp_arr.argmax()\n",
    "\n",
    "# Retrieve the weights of the assets in the portfolio corresponding to the index 4091 in the all_weights array.\n",
    "opt_weights = all_weights[max_sr_index,:]\n",
    "\n",
    "# Retrive the optimal expected returns and volaticity\n",
    "optimal_return = ret_arr[max_sr_index]\n",
    "optimal_volatility = vol_arr[max_sr_index]\n",
    "\n",
    "# Print Result\n",
    "print('Max Sharpe Ratio: ', max_sr)\n",
    "print('Optimal Return: ', optimal_return)\n",
    "print('Optimal Volatility: ', optimal_volatility)\n",
    "print('Optimal Weights: ', opt_weights)\n",
    "print('Stock List: ', selected_stocks)"
   ]
  },
  {
   "cell_type": "markdown",
   "metadata": {},
   "source": [
    "## Section 5.5 - Efficient Frontier"
   ]
  },
  {
   "cell_type": "markdown",
   "metadata": {},
   "source": [
    "The efficient frontier rates portfolios on a coordinate plane. Plotted on the x-axis is the risk, while return is plotted on the y-axis—annualized standard deviation is typically used to measure risk, while compound annual growth rate (CAGR) is used for return.\n",
    "\n",
    "More info [link](https://www.investopedia.com/terms/e/efficientfrontier.asp)\n",
    "\n",
    "The volatility, return and sharpe ratio values for the simulation are plotted below."
   ]
  },
  {
   "cell_type": "code",
   "execution_count": null,
   "metadata": {},
   "outputs": [],
   "source": [
    "plt.figure(figsize = (10,5))\n",
    "plt.scatter(vol_arr, ret_arr, c = sharp_arr, cmap = 'plasma')\n",
    "plt.colorbar(label = 'Sharpe Ratio')\n",
    "plt.xlabel('Volatility', fontweight = 'bold')\n",
    "plt.ylabel('Return', fontweight = 'bold')\n",
    "\n",
    "plt.scatter(optimal_volatility, optimal_return, c='red', s=200, edgecolors='black', marker='*')\n",
    "plt.grid(True, ls=':', lw=1)"
   ]
  },
  {
   "cell_type": "markdown",
   "metadata": {},
   "source": [
    "The visualization can be seen above for volatility, return and sharpe ratio. The x-axis shows the volatility, y axis shows the return and the colorbar on right shows the sharpe ratio graded colorwise with dark color showing the lowest and light values showing the highest sharpe ratio. The red star shows the highest Sharpe ratio point on the plot."
   ]
  },
  {
   "cell_type": "markdown",
   "metadata": {},
   "source": [
    "# Section 6 - MVO with Scipy Minimized Function"
   ]
  },
  {
   "cell_type": "markdown",
   "metadata": {},
   "source": [
    "## Section 6.1 - Overview"
   ]
  },
  {
   "cell_type": "markdown",
   "metadata": {},
   "source": [
    "In our next analysis method, we will optimize the same portfolio allocation mathematically using the minimize function in Scipy (a library in Python) and Sharpe ratio.\n",
    "\n",
    "Portfolio optimization using Scipy’s minimize function and the Sharpe ratio involves using mathematical optimization to find the optimal asset allocation that maximizes the Sharpe ratio—a measure of risk-adjusted returns.\n",
    "\n",
    "The basic principle is to find the Sharpe ratio for a random allocation and then multiply it by -1 to make it negative and then minimize it to obtain the allocation weights that gives the highest Sharpe ratio."
   ]
  },
  {
   "cell_type": "code",
   "execution_count": null,
   "metadata": {},
   "outputs": [],
   "source": [
    "def ret_vol_sr(weights):\n",
    "  weights = np.array(weights)\n",
    "\n",
    "  # Calculate Annualized Expected Returns\n",
    "  ret = np.sum(returns.mean() * weights * 252)\n",
    "\n",
    "  # Calculate Portfolio Volaticity\n",
    "  vol = np.sqrt(np.dot(weights.T, np.dot(returns.cov() * 252, weights)))\n",
    "\n",
    "  # Calculate Sharp Ratio, Rist Free rate 6.4%\n",
    "  sr = (ret - rf) / vol\n",
    "\n",
    "  return np.array([ret, vol, sr])"
   ]
  },
  {
   "cell_type": "markdown",
   "metadata": {},
   "source": [
    "## Section 6.2 Scipy Minimize Function"
   ]
  },
  {
   "cell_type": "code",
   "execution_count": null,
   "metadata": {},
   "outputs": [
    {
     "ename": "NameError",
     "evalue": "name 'np' is not defined",
     "output_type": "error",
     "traceback": [
      "\u001b[1;31m---------------------------------------------------------------------------\u001b[0m",
      "\u001b[1;31mNameError\u001b[0m                                 Traceback (most recent call last)",
      "Cell \u001b[1;32mIn[27], line 27\u001b[0m\n\u001b[0;32m     22\u001b[0m init_guess \u001b[38;5;241m=\u001b[39m [\u001b[38;5;241m0.25\u001b[39m, \u001b[38;5;241m0.25\u001b[39m, \u001b[38;5;241m0.25\u001b[39m, \u001b[38;5;241m0.25\u001b[39m]\n\u001b[0;32m     24\u001b[0m \u001b[38;5;66;03m# SLSQP stands for Sequential Least Squares Quadratic Programming, which is an algorithm that can handle both equality and inequality constraints, making it well-suited for portfolio optimization problems.\u001b[39;00m\n\u001b[0;32m     25\u001b[0m \u001b[38;5;66;03m# We are minimize the negative sharp ratio - maximize sharp ratio\u001b[39;00m\n\u001b[1;32m---> 27\u001b[0m opt_results \u001b[38;5;241m=\u001b[39m \u001b[43mminimize\u001b[49m\u001b[43m(\u001b[49m\u001b[43msharp_neg\u001b[49m\u001b[43m,\u001b[49m\u001b[43m \u001b[49m\u001b[43minit_guess\u001b[49m\u001b[43m,\u001b[49m\u001b[43m \u001b[49m\u001b[43mmethod\u001b[49m\u001b[43m \u001b[49m\u001b[38;5;241;43m=\u001b[39;49m\u001b[43m \u001b[49m\u001b[38;5;124;43m'\u001b[39;49m\u001b[38;5;124;43mSLSQP\u001b[39;49m\u001b[38;5;124;43m'\u001b[39;49m\u001b[43m,\u001b[49m\u001b[43m \u001b[49m\u001b[43mbounds\u001b[49m\u001b[43m \u001b[49m\u001b[38;5;241;43m=\u001b[39;49m\u001b[43m \u001b[49m\u001b[43mbounds\u001b[49m\u001b[43m,\u001b[49m\u001b[43m \u001b[49m\u001b[43mconstraints\u001b[49m\u001b[43m \u001b[49m\u001b[38;5;241;43m=\u001b[39;49m\u001b[43m \u001b[49m\u001b[43mcons\u001b[49m\u001b[43m)\u001b[49m\n\u001b[0;32m     29\u001b[0m opt_results\n",
      "File \u001b[1;32mc:\\Users\\idani\\anaconda3\\envs\\bunker\\lib\\site-packages\\scipy\\optimize\\_minimize.py:705\u001b[0m, in \u001b[0;36mminimize\u001b[1;34m(fun, x0, args, method, jac, hess, hessp, bounds, constraints, tol, callback, options)\u001b[0m\n\u001b[0;32m    702\u001b[0m     res \u001b[38;5;241m=\u001b[39m _minimize_cobyla(fun, x0, args, constraints, callback\u001b[38;5;241m=\u001b[39mcallback,\n\u001b[0;32m    703\u001b[0m                             \u001b[38;5;241m*\u001b[39m\u001b[38;5;241m*\u001b[39moptions)\n\u001b[0;32m    704\u001b[0m \u001b[38;5;28;01melif\u001b[39;00m meth \u001b[38;5;241m==\u001b[39m \u001b[38;5;124m'\u001b[39m\u001b[38;5;124mslsqp\u001b[39m\u001b[38;5;124m'\u001b[39m:\n\u001b[1;32m--> 705\u001b[0m     res \u001b[38;5;241m=\u001b[39m _minimize_slsqp(fun, x0, args, jac, bounds,\n\u001b[0;32m    706\u001b[0m                           constraints, callback\u001b[38;5;241m=\u001b[39mcallback, \u001b[38;5;241m*\u001b[39m\u001b[38;5;241m*\u001b[39moptions)\n\u001b[0;32m    707\u001b[0m \u001b[38;5;28;01melif\u001b[39;00m meth \u001b[38;5;241m==\u001b[39m \u001b[38;5;124m'\u001b[39m\u001b[38;5;124mtrust-constr\u001b[39m\u001b[38;5;124m'\u001b[39m:\n\u001b[0;32m    708\u001b[0m     res \u001b[38;5;241m=\u001b[39m _minimize_trustregion_constr(fun, x0, args, jac, hess, hessp,\n\u001b[0;32m    709\u001b[0m                                        bounds, constraints,\n\u001b[0;32m    710\u001b[0m                                        callback\u001b[38;5;241m=\u001b[39mcallback, \u001b[38;5;241m*\u001b[39m\u001b[38;5;241m*\u001b[39moptions)\n",
      "File \u001b[1;32mc:\\Users\\idani\\anaconda3\\envs\\bunker\\lib\\site-packages\\scipy\\optimize\\_slsqp_py.py:327\u001b[0m, in \u001b[0;36m_minimize_slsqp\u001b[1;34m(func, x0, args, jac, bounds, constraints, maxiter, ftol, iprint, disp, eps, callback, finite_diff_rel_step, **unknown_options)\u001b[0m\n\u001b[0;32m    313\u001b[0m exit_modes \u001b[38;5;241m=\u001b[39m {\u001b[38;5;241m-\u001b[39m\u001b[38;5;241m1\u001b[39m: \u001b[38;5;124m\"\u001b[39m\u001b[38;5;124mGradient evaluation required (g & a)\u001b[39m\u001b[38;5;124m\"\u001b[39m,\n\u001b[0;32m    314\u001b[0m                \u001b[38;5;241m0\u001b[39m: \u001b[38;5;124m\"\u001b[39m\u001b[38;5;124mOptimization terminated successfully\u001b[39m\u001b[38;5;124m\"\u001b[39m,\n\u001b[0;32m    315\u001b[0m                \u001b[38;5;241m1\u001b[39m: \u001b[38;5;124m\"\u001b[39m\u001b[38;5;124mFunction evaluation required (f & c)\u001b[39m\u001b[38;5;124m\"\u001b[39m,\n\u001b[1;32m   (...)\u001b[0m\n\u001b[0;32m    322\u001b[0m                \u001b[38;5;241m8\u001b[39m: \u001b[38;5;124m\"\u001b[39m\u001b[38;5;124mPositive directional derivative for linesearch\u001b[39m\u001b[38;5;124m\"\u001b[39m,\n\u001b[0;32m    323\u001b[0m                \u001b[38;5;241m9\u001b[39m: \u001b[38;5;124m\"\u001b[39m\u001b[38;5;124mIteration limit reached\u001b[39m\u001b[38;5;124m\"\u001b[39m}\n\u001b[0;32m    325\u001b[0m \u001b[38;5;66;03m# Set the parameters that SLSQP will need\u001b[39;00m\n\u001b[0;32m    326\u001b[0m \u001b[38;5;66;03m# meq, mieq: number of equality and inequality constraints\u001b[39;00m\n\u001b[1;32m--> 327\u001b[0m meq \u001b[38;5;241m=\u001b[39m \u001b[38;5;28msum\u001b[39m(\u001b[38;5;28mmap\u001b[39m(\u001b[38;5;28mlen\u001b[39m, [atleast_1d(c[\u001b[38;5;124m'\u001b[39m\u001b[38;5;124mfun\u001b[39m\u001b[38;5;124m'\u001b[39m](x, \u001b[38;5;241m*\u001b[39mc[\u001b[38;5;124m'\u001b[39m\u001b[38;5;124margs\u001b[39m\u001b[38;5;124m'\u001b[39m]))\n\u001b[0;32m    328\u001b[0m           \u001b[38;5;28;01mfor\u001b[39;00m c \u001b[38;5;129;01min\u001b[39;00m cons[\u001b[38;5;124m'\u001b[39m\u001b[38;5;124meq\u001b[39m\u001b[38;5;124m'\u001b[39m]]))\n\u001b[0;32m    329\u001b[0m mieq \u001b[38;5;241m=\u001b[39m \u001b[38;5;28msum\u001b[39m(\u001b[38;5;28mmap\u001b[39m(\u001b[38;5;28mlen\u001b[39m, [atleast_1d(c[\u001b[38;5;124m'\u001b[39m\u001b[38;5;124mfun\u001b[39m\u001b[38;5;124m'\u001b[39m](x, \u001b[38;5;241m*\u001b[39mc[\u001b[38;5;124m'\u001b[39m\u001b[38;5;124margs\u001b[39m\u001b[38;5;124m'\u001b[39m]))\n\u001b[0;32m    330\u001b[0m            \u001b[38;5;28;01mfor\u001b[39;00m c \u001b[38;5;129;01min\u001b[39;00m cons[\u001b[38;5;124m'\u001b[39m\u001b[38;5;124mineq\u001b[39m\u001b[38;5;124m'\u001b[39m]]))\n\u001b[0;32m    331\u001b[0m \u001b[38;5;66;03m# m = The total number of constraints\u001b[39;00m\n",
      "File \u001b[1;32mc:\\Users\\idani\\anaconda3\\envs\\bunker\\lib\\site-packages\\scipy\\optimize\\_slsqp_py.py:327\u001b[0m, in \u001b[0;36m<listcomp>\u001b[1;34m(.0)\u001b[0m\n\u001b[0;32m    313\u001b[0m exit_modes \u001b[38;5;241m=\u001b[39m {\u001b[38;5;241m-\u001b[39m\u001b[38;5;241m1\u001b[39m: \u001b[38;5;124m\"\u001b[39m\u001b[38;5;124mGradient evaluation required (g & a)\u001b[39m\u001b[38;5;124m\"\u001b[39m,\n\u001b[0;32m    314\u001b[0m                \u001b[38;5;241m0\u001b[39m: \u001b[38;5;124m\"\u001b[39m\u001b[38;5;124mOptimization terminated successfully\u001b[39m\u001b[38;5;124m\"\u001b[39m,\n\u001b[0;32m    315\u001b[0m                \u001b[38;5;241m1\u001b[39m: \u001b[38;5;124m\"\u001b[39m\u001b[38;5;124mFunction evaluation required (f & c)\u001b[39m\u001b[38;5;124m\"\u001b[39m,\n\u001b[1;32m   (...)\u001b[0m\n\u001b[0;32m    322\u001b[0m                \u001b[38;5;241m8\u001b[39m: \u001b[38;5;124m\"\u001b[39m\u001b[38;5;124mPositive directional derivative for linesearch\u001b[39m\u001b[38;5;124m\"\u001b[39m,\n\u001b[0;32m    323\u001b[0m                \u001b[38;5;241m9\u001b[39m: \u001b[38;5;124m\"\u001b[39m\u001b[38;5;124mIteration limit reached\u001b[39m\u001b[38;5;124m\"\u001b[39m}\n\u001b[0;32m    325\u001b[0m \u001b[38;5;66;03m# Set the parameters that SLSQP will need\u001b[39;00m\n\u001b[0;32m    326\u001b[0m \u001b[38;5;66;03m# meq, mieq: number of equality and inequality constraints\u001b[39;00m\n\u001b[1;32m--> 327\u001b[0m meq \u001b[38;5;241m=\u001b[39m \u001b[38;5;28msum\u001b[39m(\u001b[38;5;28mmap\u001b[39m(\u001b[38;5;28mlen\u001b[39m, [atleast_1d(\u001b[43mc\u001b[49m\u001b[43m[\u001b[49m\u001b[38;5;124;43m'\u001b[39;49m\u001b[38;5;124;43mfun\u001b[39;49m\u001b[38;5;124;43m'\u001b[39;49m\u001b[43m]\u001b[49m\u001b[43m(\u001b[49m\u001b[43mx\u001b[49m\u001b[43m,\u001b[49m\u001b[43m \u001b[49m\u001b[38;5;241;43m*\u001b[39;49m\u001b[43mc\u001b[49m\u001b[43m[\u001b[49m\u001b[38;5;124;43m'\u001b[39;49m\u001b[38;5;124;43margs\u001b[39;49m\u001b[38;5;124;43m'\u001b[39;49m\u001b[43m]\u001b[49m\u001b[43m)\u001b[49m)\n\u001b[0;32m    328\u001b[0m           \u001b[38;5;28;01mfor\u001b[39;00m c \u001b[38;5;129;01min\u001b[39;00m cons[\u001b[38;5;124m'\u001b[39m\u001b[38;5;124meq\u001b[39m\u001b[38;5;124m'\u001b[39m]]))\n\u001b[0;32m    329\u001b[0m mieq \u001b[38;5;241m=\u001b[39m \u001b[38;5;28msum\u001b[39m(\u001b[38;5;28mmap\u001b[39m(\u001b[38;5;28mlen\u001b[39m, [atleast_1d(c[\u001b[38;5;124m'\u001b[39m\u001b[38;5;124mfun\u001b[39m\u001b[38;5;124m'\u001b[39m](x, \u001b[38;5;241m*\u001b[39mc[\u001b[38;5;124m'\u001b[39m\u001b[38;5;124margs\u001b[39m\u001b[38;5;124m'\u001b[39m]))\n\u001b[0;32m    330\u001b[0m            \u001b[38;5;28;01mfor\u001b[39;00m c \u001b[38;5;129;01min\u001b[39;00m cons[\u001b[38;5;124m'\u001b[39m\u001b[38;5;124mineq\u001b[39m\u001b[38;5;124m'\u001b[39m]]))\n\u001b[0;32m    331\u001b[0m \u001b[38;5;66;03m# m = The total number of constraints\u001b[39;00m\n",
      "Cell \u001b[1;32mIn[27], line 12\u001b[0m, in \u001b[0;36msum_check\u001b[1;34m(weights)\u001b[0m\n\u001b[0;32m     11\u001b[0m \u001b[38;5;28;01mdef\u001b[39;00m \u001b[38;5;21msum_check\u001b[39m(weights):\n\u001b[1;32m---> 12\u001b[0m   \u001b[38;5;28;01mreturn\u001b[39;00m \u001b[43mnp\u001b[49m\u001b[38;5;241m.\u001b[39msum(weights) \u001b[38;5;241m-\u001b[39m \u001b[38;5;241m1\u001b[39m\n",
      "\u001b[1;31mNameError\u001b[0m: name 'np' is not defined"
     ]
    }
   ],
   "source": [
    "from scipy.optimize import minimize\n",
    "\n",
    "# This function below is designed to negate the Sharpe ratio because in optimization, the objective function is minimized by default.\n",
    "# We want to maximize the Sharpe ratio, index 2, so multiplying by -1 helps flip the optimization to achieve that.\n",
    "def sharp_neg(weights):\n",
    "  return ret_vol_sr(weights)[2] * -1\n",
    "\n",
    "# constraint function ensures the weight sum is 1\n",
    "# In optimization, constraints are typically written such that the result equals 0\n",
    "# If the sum of weights is exactly 1, then np.sum(weights) - 1 will equal 0. This satisfies the constraint that the sum of the weights must be 1.\n",
    "def sum_check(weights):\n",
    "  return np.sum(weights) - 1\n",
    "\n",
    "# We want equity constraint, the function must return a value equals to 0\n",
    "# Specify the equality constraint that the sum of weights must equal 1.\n",
    "cons = ({'type': 'eq', 'fun': sum_check})\n",
    "\n",
    "# Ensure that each weight lies between 0 and 1, meaning no short-selling or leverage.\n",
    "bounds = ((0, 1), (0, 1), (0, 1), (0, 1))\n",
    "\n",
    "# Initial guess for the optimization (equal weighting of 25% for each stock initially.\n",
    "init_guess = [0.25, 0.25, 0.25, 0.25]\n",
    "\n",
    "# SLSQP stands for Sequential Least Squares Quadratic Programming, which is an algorithm that can handle both equality and inequality constraints, making it well-suited for portfolio optimization problems.\n",
    "# We are minimize the negative sharp ratio - maximize sharp ratio\n",
    "\n",
    "opt_results = minimize(sharp_neg, init_guess, method = 'SLSQP', bounds = bounds, constraints = cons)\n",
    "\n",
    "opt_results\n",
    "\n",
    "# fun --> Returns the result for the negative sharpe ratio\n",
    "# x --> Represents the optimizal weights in accordance with the stock list order\n",
    "# nit --> This value indicates the number of iterations that the optimization algorithm took to converge to the optimal solution. A smaller number usually means a faster convergence\n",
    "# jac --> Jacobian (or gradient) of the objective function at the optimal weights\n"
   ]
  },
  {
   "cell_type": "code",
   "execution_count": null,
   "metadata": {},
   "outputs": [],
   "source": [
    "# opt_results.x gives the optimized portfolio weights.\n",
    "opt_results.x"
   ]
  },
  {
   "cell_type": "code",
   "execution_count": null,
   "metadata": {},
   "outputs": [],
   "source": [
    "#return the expected return, volatility, and Sharpe ratio for the optimized portfolio.\n",
    "ret_vol_sr(opt_results.x)"
   ]
  },
  {
   "cell_type": "code",
   "execution_count": null,
   "metadata": {},
   "outputs": [],
   "source": [
    "# Print Result\n",
    "print('Return: ', ret_vol_sr(opt_results.x)[0])\n",
    "print('Volatility: ', ret_vol_sr(opt_results.x)[1])\n",
    "print('Sharpe Ratio: ', ret_vol_sr(opt_results.x)[2])\n",
    "print (selected_stocks)\n",
    "print ('Optimal Weights: ', opt_results.x)"
   ]
  },
  {
   "cell_type": "markdown",
   "metadata": {},
   "source": [
    "## Section 6.3 - Result Comparison"
   ]
  },
  {
   "cell_type": "code",
   "execution_count": null,
   "metadata": {},
   "outputs": [],
   "source": [
    "# Print Result from Monte Carlos Simulation\n",
    "print ('\\nResult from Monte Carlos Simulation')\n",
    "print('Stock List: ', selected_stocks)\n",
    "print('Optimal Weights: ', opt_weights)\n",
    "print('Optimal Return: ', optimal_return)\n",
    "print('Optimal Volatility: ', optimal_volatility)\n",
    "print('Max Sharpe Ratio: ', max_sr)\n",
    "\n",
    "# Print Result from Scipy Minimized Function\n",
    "print ('\\nResult from Scipy Minimized Function')\n",
    "print ('Stock List: ', selected_stocks)\n",
    "print ('Optimal Weights: ', opt_results.x)\n",
    "print('Return: ', ret_vol_sr(opt_results.x)[0])\n",
    "print('Volatility: ', ret_vol_sr(opt_results.x)[1])\n",
    "print('Sharpe Ratio: ', ret_vol_sr(opt_results.x)[2])\n"
   ]
  },
  {
   "cell_type": "code",
   "execution_count": null,
   "metadata": {},
   "outputs": [],
   "source": [
    "# Draw Efficient Frontier\n",
    "\n",
    "plt.figure(figsize = (10,5))\n",
    "plt.scatter(vol_arr, ret_arr, c = sharp_arr, cmap = 'plasma')\n",
    "plt.colorbar(label = 'Sharpe Ratio')\n",
    "plt.xlabel('Volatility', fontweight = 'bold')\n",
    "plt.ylabel('Return', fontweight = 'bold')\n",
    "\n",
    "# Optimial point for Monte Carlos Simulation is labelled as red star\n",
    "plt.scatter(optimal_volatility, optimal_return, c='red', s=200, edgecolors='black', marker='*')\n",
    "plt.grid(True, ls=':', lw=1)\n",
    "\n",
    "# Optimial point for Scipy Optimization is labelled as green star\n",
    "plt.scatter(ret_vol_sr(opt_results.x)[1], ret_vol_sr(opt_results.x)[0], c='green', s=200, edgecolors='black', marker='*')"
   ]
  },
  {
   "cell_type": "markdown",
   "metadata": {},
   "source": [
    "Summary:\n",
    "\n",
    "The Monte Carlo Simulation provides a diversified portfolio with a balanced approach to risk and return, while the Scipy Optimization approach is more aggressive, concentrating investments in fewer stocks with higher expected returns but also slightly increased volatility.\n",
    "\n",
    "Overall, the Scipy optimization yields better risk-adjusted returns (higher Sharpe ratio) and expected returns, making it a more favorable strategy in this context. However, the Monte Carlo simulation’s results reflect a more cautious approach to diversification that may suit risk-averse investors."
   ]
  }
 ],
 "metadata": {
  "kernelspec": {
   "display_name": "bunker",
   "language": "python",
   "name": "python3"
  },
  "language_info": {
   "codemirror_mode": {
    "name": "ipython",
    "version": 3
   },
   "file_extension": ".py",
   "mimetype": "text/x-python",
   "name": "python",
   "nbconvert_exporter": "python",
   "pygments_lexer": "ipython3",
   "version": "3.10.15"
  }
 },
 "nbformat": 4,
 "nbformat_minor": 2
}

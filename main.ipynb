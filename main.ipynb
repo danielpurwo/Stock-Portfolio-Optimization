{
 "cells": [
  {
   "cell_type": "code",
   "execution_count": 19,
   "metadata": {},
   "outputs": [
    {
     "data": {
      "text/plain": [
       "False"
      ]
     },
     "execution_count": 19,
     "metadata": {},
     "output_type": "execute_result"
    }
   ],
   "source": [
    "import requests \n",
    "from dotenv import load_dotenv\n",
    "import json      \n",
    "import pandas as pd  \n",
    "import os\n",
    "load_dotenv()"
   ]
  },
  {
   "cell_type": "code",
   "execution_count": 20,
   "metadata": {},
   "outputs": [
    {
     "name": "stdout",
     "output_type": "stream",
     "text": [
      "[{\"symbol\":\"ADRO.JK\",\"company_name\":\"Adaro Energy Indonesia Tbk\"},{\"symbol\":\"AMMN.JK\",\"company_name\":\"PT Amman Mineral Internasional Tbk.\"},{\"symbol\":\"AALI.JK\",\"company_name\":\"Astra Agro Lestari Tbk\"},{\"symbol\":\"ASII.JK\",\"company_name\":\"Astra International Tbk\"},{\"symbol\":\"AVIA.JK\",\"company_name\":\"PT Avia Avian Tbk\"},{\"symbol\":\"BBCA.JK\",\"company_name\":\"PT Bank Central Asia Tbk.\"},{\"symbol\":\"BDMN.JK\",\"company_name\":\"PT Bank Danamon Indonesia Tbk\"},{\"symbol\":\"BMRI.JK\",\"company_name\":\"PT Bank Mandiri (Persero) Tbk\"},{\"symbol\":\"BBNI.JK\",\"company_name\":\"PT Bank Negara Indonesia (Persero) Tbk\"},{\"symbol\":\"BBRI.JK\",\"company_name\":\"PT Bank Rakyat Indonesia (Persero) Tbk\"},{\"symbol\":\"BRIS.JK\",\"company_name\":\"PT Bank Syariah Indonesia Tbk\"},{\"symbol\":\"BRPT.JK\",\"company_name\":\"Barito Pacific Tbk\"},{\"symbol\":\"BSDE.JK\",\"company_name\":\"PT Bumi Serpong Damai Tbk\"},{\"symbol\":\"CPIN.JK\",\"company_name\":\"Charoen Pokphand Indonesia Tbk\"},{\"symbol\":\"MTEL.JK\",\"company_name\":\"PT Dayamitra Telekomunikasi Tbk\"},{\"symbol\":\"EMTK.JK\",\"company_name\":\"Elang Mahkota Teknologi Tbk\"},{\"symbol\":\"GOTO.JK\",\"company_name\":\"PT GoTo Gojek Tokopedia Tbk\"},{\"symbol\":\"GGRM.JK\",\"company_name\":\"Gudang Garam Tbk\"},{\"symbol\":\"INKP.JK\",\"company_name\":\"Indah Kiat Pulp & Paper Tbk\"},{\"symbol\":\"INTP.JK\",\"company_name\":\"Indocement Tunggal Prakarsa Tbk\"},{\"symbol\":\"INDF.JK\",\"company_name\":\"Indofood Sukses Makmur Tbk\"},{\"symbol\":\"ISAT.JK\",\"company_name\":\"PT Indosat Tbk\"},{\"symbol\":\"JSMR.JK\",\"company_name\":\"PT Jasa Marga Tbk\"},{\"symbol\":\"KLBF.JK\",\"company_name\":\"Kalbe Farma Tbk\"},{\"symbol\":\"MYOR.JK\",\"company_name\":\"Mayora Indah Tbk\"},{\"symbol\":\"MDKA.JK\",\"company_name\":\"PT Merdeka Copper Gold Tbk.\"},{\"symbol\":\"PGAS.JK\",\"company_name\":\"PT Perusahaan Gas Negara Tbk.\"},{\"symbol\":\"CUAN.JK\",\"company_name\":\"PT Petrindo Jaya Kreasi Tbk\"},{\"symbol\":\"HMSP.JK\",\"company_name\":\"HM Sampoerna Tbk\"},{\"symbol\":\"ICBP.JK\",\"company_name\":\"Indofood CBP Sukses Makmur Tbk\"},{\"symbol\":\"TOWR.JK\",\"company_name\":\"Sarana Menara Nusantara Tbk\"},{\"symbol\":\"SMGR.JK\",\"company_name\":\"Semen Indonesia (Persero) Tbk\"},{\"symbol\":\"FREN.JK\",\"company_name\":\"PT Smartfren Telecom Tbk\"},{\"symbol\":\"AMRT.JK\",\"company_name\":\"PT Sumber Alfaria Trijaya Tbk.\"},{\"symbol\":\"PTBA.JK\",\"company_name\":\"Bukit Asam Tbk\"},{\"symbol\":\"TLKM.JK\",\"company_name\":\"PT Telkom Indonesia (Persero) Tbk\"},{\"symbol\":\"TBIG.JK\",\"company_name\":\"PT Tower Bersama Infrastructure Tbk\"},{\"symbol\":\"NCKL.JK\",\"company_name\":\"PT Trimegah Bangun Persada Tbk.\"},{\"symbol\":\"UNVR.JK\",\"company_name\":\"Unilever Indonesia Tbk\"},{\"symbol\":\"UNTR.JK\",\"company_name\":\"United Tractors Tbk\"},{\"symbol\":\"INCO.JK\",\"company_name\":\"Vale Indonesia Tbk\"},{\"symbol\":\"EXCL.JK\",\"company_name\":\"PT XL Axiata Tbk\"}]\n"
     ]
    }
   ],
   "source": [
    "url = \"https://api.sectors.app/v1/index/ftse/\"\n",
    "\n",
    "header = {\"Authorization\": os.getenv(\"sector_api_key\")}\n",
    "\n",
    "response = requests.request(\"GET\", url, headers=headers)\n",
    "\n",
    "print(response.text)"
   ]
  }
 ],
 "metadata": {
  "kernelspec": {
   "display_name": "bunker",
   "language": "python",
   "name": "python3"
  },
  "language_info": {
   "codemirror_mode": {
    "name": "ipython",
    "version": 3
   },
   "file_extension": ".py",
   "mimetype": "text/x-python",
   "name": "python",
   "nbconvert_exporter": "python",
   "pygments_lexer": "ipython3",
   "version": "3.10.15"
  }
 },
 "nbformat": 4,
 "nbformat_minor": 2
}
